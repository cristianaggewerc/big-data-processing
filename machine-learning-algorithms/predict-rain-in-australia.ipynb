{
 "cells": [
  {
   "cell_type": "markdown",
   "metadata": {},
   "source": [
    "# Assignment 2 | FIT 5202 - Data processing for Big Data\n",
    "\n",
    "\n",
    "Student: Cristiana Garcia Gewerc\n",
    "\n",
    "ID: 3008887\n",
    "\n",
    "## A. Creating Spark Session and Loading the Data\n",
    "\n",
    "### Step 01: Import Spark Session and initialize Spark"
   ]
  },
  {
   "cell_type": "code",
   "execution_count": 1,
   "metadata": {},
   "outputs": [],
   "source": [
    "# create entry points to spark\n",
    "from pyspark import SparkContext, SparkConf # Spark\n",
    "from pyspark.sql import SparkSession # Spark SQL\n",
    "\n",
    "# We add this line to avoid an error : \"Cannot run multiple SparkContexts at once\". \n",
    "# If there is an existing spark context, we will reuse it instead of creating a new context.\n",
    "sc = SparkContext.getOrCreate()\n",
    "\n",
    "# If there is no existing spark context, we now create a new context\n",
    "if (sc is None):\n",
    "    # local[4]: run Spark locally with 4 working processors.\n",
    "    sc = SparkContext(master=\"local[4]\", appName=\"Assignment 2 FIT 5202\")\n",
    "spark = SparkSession(sparkContext=sc)"
   ]
  },
  {
   "cell_type": "markdown",
   "metadata": {},
   "source": [
    "### Step 02: Load the dataset and print the schema and total number of entries"
   ]
  },
  {
   "cell_type": "code",
   "execution_count": 2,
   "metadata": {},
   "outputs": [
    {
     "name": "stdout",
     "output_type": "stream",
     "text": [
      "The dataset has 142193 lines\n"
     ]
    }
   ],
   "source": [
    "# loading the dataset\n",
    "weather_df = spark.read.csv('weatherAUS.csv', header='true')\n",
    "\n",
    "# display total number of lines\n",
    "print(\"The dataset has %d lines\" %weather_df.count())"
   ]
  },
  {
   "cell_type": "code",
   "execution_count": 3,
   "metadata": {},
   "outputs": [
    {
     "name": "stdout",
     "output_type": "stream",
     "text": [
      "root\n",
      " |-- Date: string (nullable = true)\n",
      " |-- Location: string (nullable = true)\n",
      " |-- MinTemp: string (nullable = true)\n",
      " |-- MaxTemp: string (nullable = true)\n",
      " |-- Rainfall: string (nullable = true)\n",
      " |-- Evaporation: string (nullable = true)\n",
      " |-- Sunshine: string (nullable = true)\n",
      " |-- WindGustDir: string (nullable = true)\n",
      " |-- WindGustSpeed: string (nullable = true)\n",
      " |-- WindDir9am: string (nullable = true)\n",
      " |-- WindDir3pm: string (nullable = true)\n",
      " |-- WindSpeed9am: string (nullable = true)\n",
      " |-- WindSpeed3pm: string (nullable = true)\n",
      " |-- Humidity9am: string (nullable = true)\n",
      " |-- Humidity3pm: string (nullable = true)\n",
      " |-- Pressure9am: string (nullable = true)\n",
      " |-- Pressure3pm: string (nullable = true)\n",
      " |-- Cloud9am: string (nullable = true)\n",
      " |-- Cloud3pm: string (nullable = true)\n",
      " |-- Temp9am: string (nullable = true)\n",
      " |-- Temp3pm: string (nullable = true)\n",
      " |-- RainToday: string (nullable = true)\n",
      " |-- RainTomorrow: string (nullable = true)\n",
      "\n"
     ]
    }
   ],
   "source": [
    "# printSchema to analyse which are all the columns and what are their types\n",
    "weather_df.printSchema()"
   ]
  },
  {
   "cell_type": "markdown",
   "metadata": {},
   "source": [
    "## B. Data Cleaning and Processing\n",
    "Data cleaning and processing is an important aspect for any machine learning task. We have to carefully look into the data and based on the types, quality of the data, we have to plan our cleaning procedures.\n",
    "### Step 03: Delete columns from the dataset\n",
    "During the data cleaning and processing phase, we delete unnecessary data from the dataset to improve the efficiency and accuracy of our model. You have to think which columns are not contributing to the rain prediction. To keep things simple, you are required to delete the following columns due to data quality and accuracy. <br>\n",
    "● Date <br>\n",
    "● Location <br>\n",
    "● Evaporation <br>\n",
    "● Sunshine <br>\n",
    "● Cloud9am <br>\n",
    "● Cloud3pm <br>\n",
    "● Temp9am <br>\n",
    "● Temp3pm <br>\n",
    "However, if you want to keep any of these columns, you can keep them if you process them in an intelligent way that improve the accuracy, that is fine, ​ however not mandatory​ ."
   ]
  },
  {
   "cell_type": "code",
   "execution_count": 4,
   "metadata": {},
   "outputs": [],
   "source": [
    "# drop above listed columns\n",
    "weather_df = weather_df.drop(*['Date', 'Location', 'Evaporation', 'Sunshine', \n",
    "                               'Cloud9am', 'Cloud3pm', 'Temp9am', 'Temp3pm'])"
   ]
  },
  {
   "cell_type": "markdown",
   "metadata": {},
   "source": [
    "### Step 04: Print the number of missing data in each column.\n",
    "We already have an initial idea about the data structure from the schema. Even in\n",
    "plain eyes, we can observe that there are lots of NA (null) values in the given dataset.\n",
    "Your job in this step is to print the number of NA(null) values in each column."
   ]
  },
  {
   "cell_type": "code",
   "execution_count": 5,
   "metadata": {},
   "outputs": [
    {
     "name": "stdout",
     "output_type": "stream",
     "text": [
      "+-------+\n",
      "|MinTemp|\n",
      "+-------+\n",
      "|    637|\n",
      "+-------+\n",
      "\n",
      "+-------+\n",
      "|MaxTemp|\n",
      "+-------+\n",
      "|    322|\n",
      "+-------+\n",
      "\n",
      "+--------+\n",
      "|Rainfall|\n",
      "+--------+\n",
      "|    1406|\n",
      "+--------+\n",
      "\n",
      "+-----------+\n",
      "|WindGustDir|\n",
      "+-----------+\n",
      "|       9330|\n",
      "+-----------+\n",
      "\n",
      "+-------------+\n",
      "|WindGustSpeed|\n",
      "+-------------+\n",
      "|         9270|\n",
      "+-------------+\n",
      "\n",
      "+----------+\n",
      "|WindDir9am|\n",
      "+----------+\n",
      "|     10013|\n",
      "+----------+\n",
      "\n",
      "+----------+\n",
      "|WindDir3pm|\n",
      "+----------+\n",
      "|      3778|\n",
      "+----------+\n",
      "\n",
      "+------------+\n",
      "|WindSpeed9am|\n",
      "+------------+\n",
      "|        1348|\n",
      "+------------+\n",
      "\n",
      "+------------+\n",
      "|WindSpeed3pm|\n",
      "+------------+\n",
      "|        2630|\n",
      "+------------+\n",
      "\n",
      "+-----------+\n",
      "|Humidity9am|\n",
      "+-----------+\n",
      "|       1774|\n",
      "+-----------+\n",
      "\n",
      "+-----------+\n",
      "|Humidity3pm|\n",
      "+-----------+\n",
      "|       3610|\n",
      "+-----------+\n",
      "\n",
      "+-----------+\n",
      "|Pressure9am|\n",
      "+-----------+\n",
      "|      14014|\n",
      "+-----------+\n",
      "\n",
      "+-----------+\n",
      "|Pressure3pm|\n",
      "+-----------+\n",
      "|      13981|\n",
      "+-----------+\n",
      "\n",
      "+---------+\n",
      "|RainToday|\n",
      "+---------+\n",
      "|     1406|\n",
      "+---------+\n",
      "\n",
      "+------------+\n",
      "|RainTomorrow|\n",
      "+------------+\n",
      "|           0|\n",
      "+------------+\n",
      "\n"
     ]
    }
   ],
   "source": [
    "from pyspark.sql.functions import count, when, isnan\n",
    "# define function to count \"NA\"/NaN/NULL:\n",
    "def count_na(column):\n",
    "    weather_df.select(\n",
    "    count(when(\n",
    "        (weather_df[column]=='NA')|(weather_df[column].isNull()| (isnan(weather_df[column]))),\n",
    "        weather_df[column]))\n",
    "    .alias(column)).show()\n",
    "# apply function to each column of our spark dataframe:\n",
    "for column in weather_df.columns:\n",
    "    count_na(column)"
   ]
  },
  {
   "cell_type": "markdown",
   "metadata": {},
   "source": [
    "### Step 05: Fill the missing data with average value and maximum occurrence value.\n",
    "In this step you have to fill in all the missing data with average value (for numeric column) or maximum frequency value (for non-numeric column).\n",
    "\n",
    "1) Firstly, identify the columns which have numeric values (e.g., MinTemp, MaxTemp), calculate the average and fill the null value with the average."
   ]
  },
  {
   "cell_type": "code",
   "execution_count": 6,
   "metadata": {},
   "outputs": [
    {
     "data": {
      "text/plain": [
       "[Row(MinTemp='13.4', MaxTemp='22.9', Rainfall='0.6', WindGustDir='W', WindGustSpeed='44', WindDir9am='W', WindDir3pm='WNW', WindSpeed9am='20', WindSpeed3pm='24', Humidity9am='71', Humidity3pm='22', Pressure9am='1007.7', Pressure3pm='1007.1', RainToday='No', RainTomorrow='No')]"
      ]
     },
     "execution_count": 6,
     "metadata": {},
     "output_type": "execute_result"
    }
   ],
   "source": [
    "weather_df.take(1)"
   ]
  },
  {
   "cell_type": "markdown",
   "metadata": {},
   "source": [
    "<font color=blue><b> Now that we can see which are the numeric columns ('MinTemp', 'MaxTemp', 'Rainfall', 'WindGustSpeed', 'WindSpeed9am', 'WindSpeed3pm', 'Pressure9am', 'Pressure3pm') we will calculate their averages:</font></b> "
   ]
  },
  {
   "cell_type": "code",
   "execution_count": 7,
   "metadata": {},
   "outputs": [
    {
     "name": "stdout",
     "output_type": "stream",
     "text": [
      "('summary', 'mean')\n",
      "('MinTemp', '12.186399728729098')\n",
      "('MaxTemp', '23.226784191272444')\n",
      "('Rainfall', '2.3499740743111954')\n",
      "('WindGustSpeed', '39.98429165757619')\n",
      "('WindSpeed9am', '14.001988000994')\n",
      "('WindSpeed3pm', '18.63757586179718')\n",
      "('Humidity9am', '68.8438103105705')\n",
      "('Humidity3pm', '51.482606091656265')\n",
      "('Pressure9am', '1017.6537584159781')\n",
      "('Pressure3pm', '1015.258203537907')\n"
     ]
    }
   ],
   "source": [
    "num_cols = ['MinTemp', 'MaxTemp', 'Rainfall', 'WindGustSpeed', \n",
    "            'WindSpeed9am', 'WindSpeed3pm', 'Humidity9am', \n",
    "            'Humidity3pm','Pressure9am', 'Pressure3pm']\n",
    "# collecting the means of the \"num_cols\"\n",
    "num_mean = weather_df.select(num_cols).describe().collect()[1]\n",
    "# printing the means with help of dictinary format\n",
    "for item in num_mean.asDict().items():\n",
    "    print(item)"
   ]
  },
  {
   "cell_type": "markdown",
   "metadata": {},
   "source": [
    "<font color=red><b>Answer:</font></b> <font color=blue><b>\n",
    "The columns which have numerical values and their respective averages are:<br>\n",
    "    . MinTemp: 12.19 <br>\n",
    "    . MaxTemp: 23.23<br>\n",
    "    . Rainfall: 2.34<br>\n",
    "    . WindGustSpeed: 39.98<br>\n",
    "    . WindSpeed9am: 14.00<br>\n",
    "    . WindSpeed3pm: 18.64<br>\n",
    "    . Humidity9am: 68.84<br>\n",
    "    . Humidity3pm: 51.48<br>\n",
    "    . Pressure9am: 1017.65<br>\n",
    "    . Pressure3pm: 1015.26<br>\n",
    "Now, we are going to replace their \"NA\" entries with the average values.\n",
    "</font></b> \n"
   ]
  },
  {
   "cell_type": "code",
   "execution_count": 8,
   "metadata": {},
   "outputs": [],
   "source": [
    "i=1\n",
    "for col in num_cols: # for each numeric column, impute the corresponding mean in case its \"NA\", NULL or NaN\n",
    "    weather_df = weather_df.withColumn(col,\n",
    "              when(\n",
    "                  (weather_df[col]=='NA')|(weather_df[col].isNull()| (isnan(weather_df[col])))\n",
    "                  , num_mean[i]).otherwise(weather_df[col]))\n",
    "    i+=1"
   ]
  },
  {
   "cell_type": "markdown",
   "metadata": {},
   "source": [
    "2) Secondly, identify the columns with non-numeric values (e.g., WindGustDir, WindDir9am)\n",
    "and find the most frequent item (e.g., wind direction). \n",
    "\n",
    "<font color=blue><b>All other columns present non-numeric values, i.e. 'WindGustDir', 'WindDir9am', 'WindDir3pm', 'RainToday', 'RainTomorrow'. Let's find their most fequent item:</font></b> \n"
   ]
  },
  {
   "cell_type": "code",
   "execution_count": 9,
   "metadata": {},
   "outputs": [
    {
     "name": "stdout",
     "output_type": "stream",
     "text": [
      "[Row(WindGustDir='W', count=9780), Row(WindDir9am='N', count=11393), Row(WindDir3pm='SE', count=10663), Row(RainToday='No', count=109332), Row(RainTomorrow='No', count=110316)]\n"
     ]
    }
   ],
   "source": [
    "from pyspark.sql.functions import desc\n",
    "\n",
    "nom_num_cols = ['WindGustDir', 'WindDir9am', 'WindDir3pm', 'RainToday', 'RainTomorrow']\n",
    "# collecting the most frequent of values of the \"non_num_cols\"\n",
    "nom_num_modes =[]\n",
    "for col in nom_num_cols:\n",
    "    nom_num_modes.append(weather_df.groupBy(col).count().sort(desc(\"count\")).collect()[0])\n",
    "# printing the modes\n",
    "print(nom_num_modes)   "
   ]
  },
  {
   "cell_type": "markdown",
   "metadata": {},
   "source": [
    "<font color=red><b>Answer:</font></b> <font color=blue><b>\n",
    "The columns which have non-numerical values and their respective averages are:<br>\n",
    "    . WindGustDir: 'W'<br>\n",
    "    . WindDir9am: 'N'<br>\n",
    "    . WindDir3pm: 'SE'<br>\n",
    "    . RainToday: 'No'<br>\n",
    "    . RainTomorrow: 'No'<br>\n",
    "Now, we are going to replace their \"NA\" entries with their max occurence values.\n",
    "</font></b> \n",
    "\n",
    "\n",
    "3) Now fill the null values with that item for that particular column."
   ]
  },
  {
   "cell_type": "code",
   "execution_count": 10,
   "metadata": {},
   "outputs": [],
   "source": [
    "i=0\n",
    "for col in nom_num_cols:\n",
    "    # nom_num_modes is a list of one element per non numeric col. FOr each one of them, the first [0] element is\n",
    "    # the mode of the corresponding column\n",
    "    weather_df = weather_df.withColumn(col,\n",
    "              when((weather_df[col]=='NA')|(weather_df[col].isNull()| (isnan(weather_df[col]))),\n",
    "                   nom_num_modes[i][0]).otherwise(weather_df[col]))\n",
    "    i+=1"
   ]
  },
  {
   "cell_type": "markdown",
   "metadata": {},
   "source": [
    "### Step 06: Data transformation\n",
    "In this step, you need to transform the data so that it will be useful to process by the machine learning algorithm. Before transforming your non-numerical data, do the type casting (to double) of the numerical value columns as they are defined as “String” (see, the schema of the dataset). For the non-numerical value column (i.e., WindGustDir, WindDir9am, WindDir3pm, RainTomorrow) use the StringIndexer method to convert them into numbers"
   ]
  },
  {
   "cell_type": "code",
   "execution_count": 11,
   "metadata": {},
   "outputs": [
    {
     "name": "stdout",
     "output_type": "stream",
     "text": [
      "root\n",
      " |-- MinTemp: double (nullable = true)\n",
      " |-- MaxTemp: double (nullable = true)\n",
      " |-- Rainfall: double (nullable = true)\n",
      " |-- WindGustSpeed: double (nullable = true)\n",
      " |-- WindSpeed9am: double (nullable = true)\n",
      " |-- WindSpeed3pm: double (nullable = true)\n",
      " |-- Humidity9am: double (nullable = true)\n",
      " |-- Humidity3pm: double (nullable = true)\n",
      " |-- Pressure9am: double (nullable = true)\n",
      " |-- Pressure3pm: double (nullable = true)\n",
      " |-- WindGustDir_index: double (nullable = false)\n",
      " |-- WindDir9am_index: double (nullable = false)\n",
      " |-- WindDir3pm_index: double (nullable = false)\n",
      " |-- RainToday_index: double (nullable = false)\n",
      " |-- RainTomorrow_index: double (nullable = false)\n",
      "\n"
     ]
    }
   ],
   "source": [
    "from pyspark.ml import Pipeline\n",
    "from pyspark.ml.feature import StringIndexer\n",
    "\n",
    "# numerical data\n",
    "for col in num_cols:\n",
    "    weather_df = weather_df.withColumn(col, weather_df[col].cast('double'))\n",
    "\n",
    "# non-numerical\n",
    "cat_indexers = [StringIndexer(inputCol=col, outputCol=col+\"_index\").fit(weather_df) for col in nom_num_cols]\n",
    "ml_pipeline = Pipeline(stages=cat_indexers)\n",
    "weather_df = ml_pipeline.fit(weather_df).transform(weather_df).drop(*nom_num_cols)\n",
    "\n",
    "# checking new schema\n",
    "weather_df.printSchema()"
   ]
  },
  {
   "cell_type": "markdown",
   "metadata": {},
   "source": [
    "### Step 07: Create the feature vector and divide the dataset\n",
    "In this step, you have to create the feature vector from the given columns. When you create you feature vector, remember to exclude the column that you will be using for testing the accuracy of your model."
   ]
  },
  {
   "cell_type": "code",
   "execution_count": 12,
   "metadata": {},
   "outputs": [
    {
     "name": "stdout",
     "output_type": "stream",
     "text": [
      "[Row(MinTemp=13.4, MaxTemp=22.9, Rainfall=0.6, WindGustSpeed=44.0, WindSpeed9am=20.0, WindSpeed3pm=24.0, Humidity9am=71.0, Humidity3pm=22.0, Pressure9am=1007.7, Pressure3pm=1007.1, WindGustDir_index=0.0, WindDir9am_index=6.0, WindDir3pm_index=7.0, RainToday_index=0.0, RainTomorrow_index=0.0, features=DenseVector([13.4, 22.9, 0.6, 44.0, 20.0, 24.0, 71.0, 22.0, 1007.7, 1007.1, 0.0, 6.0, 7.0, 0.0]))]\n",
      "\n",
      "Only label and features: \n",
      " [Row(RainTomorrow_index=0.0, features=DenseVector([13.4, 22.9, 0.6, 44.0, 20.0, 24.0, 71.0, 22.0, 1007.7, 1007.1, 0.0, 6.0, 7.0, 0.0]))]\n"
     ]
    }
   ],
   "source": [
    "from pyspark.ml.linalg import Vectors\n",
    "from pyspark.ml.feature import VectorAssembler\n",
    "\n",
    "#feature_cols = list(set(weather_df.columns) - {'RainTomorrow_index'})\n",
    "\n",
    "feature_cols = ['MinTemp','MaxTemp','Rainfall', 'WindGustSpeed', 'WindSpeed9am','WindSpeed3pm', 'Humidity9am',\n",
    "                'Humidity3pm', 'Pressure9am', 'Pressure3pm',\n",
    "                'WindGustDir_index','WindDir9am_index', 'WindDir3pm_index', 'RainToday_index']\n",
    "\n",
    "\n",
    "\n",
    "# creating the feature vector\n",
    "vector_assembler = VectorAssembler(inputCols= feature_cols, outputCol=\"features\")\n",
    "\n",
    "df_temp = vector_assembler.transform(weather_df)\n",
    "print(df_temp.take(1))\n",
    "\n",
    "weather_df = df_temp['RainTomorrow_index', 'features']\n",
    "print(\"\\nOnly label and features: \\n\", weather_df.take(1))"
   ]
  },
  {
   "cell_type": "markdown",
   "metadata": {},
   "source": [
    "After creation of your feature vector, you have to split your dataset into two (e.g., training and testing). In this assignment, you have to spit the dataset randomly and between 70 percent and 30 percent."
   ]
  },
  {
   "cell_type": "code",
   "execution_count": 21,
   "metadata": {},
   "outputs": [],
   "source": [
    "# Splitting the dataset between training and test dataset (setting seed to have reproducible results):\n",
    "(training_data, test_data) = weather_df.randomSplit([0.7, 0.3], seed = 100)"
   ]
  },
  {
   "cell_type": "markdown",
   "metadata": {},
   "source": [
    "## C. Apply Machine Learning Algorithms\n",
    "### Step 08: Apply machine learning classification algorithms on the dataset and compare their accuracy. Plot the accuracy as bar graph.\n",
    "You have to use DecisionTreeClassifier(), RandomForestClassifier(), and LogisticRegression(), GBTClassifier() methods in spark to calculate the probability of the rain fall tomorrow based on the other related data points (e.g., temperature, wind, humidity).\n",
    "\n",
    "1. Run and calculate the accuracy of decision tree algorithm"
   ]
  },
  {
   "cell_type": "code",
   "execution_count": 22,
   "metadata": {},
   "outputs": [
    {
     "name": "stdout",
     "output_type": "stream",
     "text": [
      "+----------+------------------+\n",
      "|prediction|RainTomorrow_index|\n",
      "+----------+------------------+\n",
      "|       0.0|               0.0|\n",
      "|       0.0|               0.0|\n",
      "|       0.0|               0.0|\n",
      "|       0.0|               0.0|\n",
      "|       0.0|               0.0|\n",
      "+----------+------------------+\n",
      "only showing top 5 rows\n",
      "\n",
      "Test Error = 0.165842 \n"
     ]
    }
   ],
   "source": [
    "from pyspark.ml.classification import DecisionTreeClassifier\n",
    "from pyspark.ml.evaluation import MulticlassClassificationEvaluator\n",
    "\n",
    "# create, fit and predict the model\n",
    "dt = DecisionTreeClassifier(labelCol=\"RainTomorrow_index\", featuresCol=\"features\", seed = 1234)\n",
    "dt_model = dt.fit(training_data)\n",
    "dt_predictions = dt_model.transform(test_data)\n",
    "dt_predictions.select(\"prediction\", \"RainTomorrow_index\").show(5)\n",
    "\n",
    "## accuracy evaluator for all models ##\n",
    "evaluator = MulticlassClassificationEvaluator(\\\n",
    "labelCol=\"RainTomorrow_index\", predictionCol=\"prediction\",\\\n",
    "metricName=\"accuracy\")\n",
    "\n",
    "# testing decision tree accuracy\n",
    "dt_accuracy = evaluator.evaluate(dt_predictions)\n",
    "print(\"Test Error = %g \" % (1.0 - dt_accuracy))"
   ]
  },
  {
   "cell_type": "markdown",
   "metadata": {},
   "source": [
    "2. Run and calculate the accuracy of random forest algorithm"
   ]
  },
  {
   "cell_type": "code",
   "execution_count": 23,
   "metadata": {},
   "outputs": [
    {
     "name": "stdout",
     "output_type": "stream",
     "text": [
      "+----------+------------------+\n",
      "|prediction|RainTomorrow_index|\n",
      "+----------+------------------+\n",
      "|       0.0|               0.0|\n",
      "|       0.0|               0.0|\n",
      "|       0.0|               0.0|\n",
      "|       0.0|               0.0|\n",
      "|       0.0|               0.0|\n",
      "+----------+------------------+\n",
      "only showing top 5 rows\n",
      "\n",
      "Test Error = 0.165372\n"
     ]
    }
   ],
   "source": [
    "from pyspark.ml.classification import RandomForestClassifier\n",
    "\n",
    "# create, fit and predict the model\n",
    "rf = RandomForestClassifier(labelCol=\"RainTomorrow_index\", featuresCol=\"features\", numTrees=10, seed=1234)\n",
    "rf_model = rf.fit(training_data)\n",
    "rf_predictions = rf_model.transform(test_data)\n",
    "rf_predictions.select(\"prediction\", \"RainTomorrow_index\").show(5)\n",
    "\n",
    "# testing random forest accuracy\n",
    "rf_accuracy = evaluator.evaluate(rf_predictions)\n",
    "print(\"Test Error = %g\" % (1.0 - rf_accuracy))"
   ]
  },
  {
   "cell_type": "markdown",
   "metadata": {},
   "source": [
    "3. Run and calculate the accuracy of logistic regression"
   ]
  },
  {
   "cell_type": "code",
   "execution_count": 24,
   "metadata": {},
   "outputs": [
    {
     "name": "stdout",
     "output_type": "stream",
     "text": [
      "+----------+------------------+\n",
      "|prediction|RainTomorrow_index|\n",
      "+----------+------------------+\n",
      "|       0.0|               0.0|\n",
      "|       0.0|               0.0|\n",
      "|       0.0|               0.0|\n",
      "|       0.0|               0.0|\n",
      "|       0.0|               0.0|\n",
      "+----------+------------------+\n",
      "only showing top 5 rows\n",
      "\n",
      "Test Error = 0.18534\n"
     ]
    }
   ],
   "source": [
    "from pyspark.ml.classification import LogisticRegression\n",
    "\n",
    "# create, fit and predict the model\n",
    "lr = LogisticRegression(featuresCol = 'features', labelCol = 'RainTomorrow_index', maxIter=10)\n",
    "lr_model = lr.fit(training_data)\n",
    "lr_predictions = lr_model.transform(test_data)\n",
    "lr_predictions.select(\"prediction\", \"RainTomorrow_index\").show(5)\n",
    "\n",
    "# testing logistic regression accuracy\n",
    "lr_accuracy = evaluator.evaluate(lr_predictions)\n",
    "print(\"Test Error = %g\" % (1.0 - lr_accuracy))"
   ]
  },
  {
   "cell_type": "markdown",
   "metadata": {},
   "source": [
    "4. Run and calculate the accuracy of gradient boosted trees classifier"
   ]
  },
  {
   "cell_type": "code",
   "execution_count": 25,
   "metadata": {},
   "outputs": [
    {
     "name": "stdout",
     "output_type": "stream",
     "text": [
      "+----------+------------------+\n",
      "|prediction|RainTomorrow_index|\n",
      "+----------+------------------+\n",
      "|       0.0|               0.0|\n",
      "|       0.0|               0.0|\n",
      "|       0.0|               0.0|\n",
      "|       0.0|               0.0|\n",
      "|       0.0|               0.0|\n",
      "+----------+------------------+\n",
      "only showing top 5 rows\n",
      "\n",
      "Test Error = 0.160328\n"
     ]
    }
   ],
   "source": [
    "from pyspark.ml.classification import GBTClassifier\n",
    "\n",
    "gbt = GBTClassifier(featuresCol = 'features', labelCol = 'RainTomorrow_index', maxIter=10, seed=1234)\n",
    "gbt_model = gbt.fit(training_data)\n",
    "gbt_predictions = gbt_model.transform(test_data)\n",
    "gbt_predictions.select(\"prediction\", \"RainTomorrow_index\").show(5)\n",
    "\n",
    "# testing gradient boosted trees accuracy\n",
    "gbt_accuracy = evaluator.evaluate(gbt_predictions)\n",
    "print(\"Test Error = %g\" % (1.0 - gbt_accuracy))"
   ]
  },
  {
   "cell_type": "markdown",
   "metadata": {},
   "source": [
    "Finally, you have to draw the graph (e.g. bar chart) to demonstrate the comparison of their accuracy."
   ]
  },
  {
   "cell_type": "code",
   "execution_count": 26,
   "metadata": {},
   "outputs": [
    {
     "data": {
      "image/png": "[encoded data removed]",
      "text/plain": [
       "<Figure size 432x288 with 1 Axes>"
      ]
     },
     "metadata": {
      "needs_background": "light"
     },
     "output_type": "display_data"
    }
   ],
   "source": [
    "import matplotlib.pyplot as plt\n",
    "%matplotlib inline\n",
    "\n",
    "# preparing data for the plot\n",
    "accuracy_compare = [lr_accuracy, dt_accuracy, rf_accuracy, gbt_accuracy]\n",
    "legend = ['LR', 'DT', 'RF', 'GBT']\n",
    "\n",
    "# plotting\n",
    "bars = plt.bar(legend, accuracy_compare, align='center', color='lightblue', edgecolor='black')\n",
    "plt.xlabel('Models', fontsize=12)\n",
    "plt.ylabel('Accuracy', fontsize=12)\n",
    "plt.title('Accuracy by Model', fontsize=16)\n",
    "plt.xticks(size=14)\n",
    "plt.ylim(0.81, 0.84)\n",
    "# text on the top of each bar\n",
    "for bar in bars:\n",
    "    yval = bar.get_height()\n",
    "    plt.text(x = bar.get_x() + 0.1, y = yval - 0.003, s = str(round(yval*100,2))+'%', size =14)\n",
    "plt.show()"
   ]
  },
  {
   "cell_type": "markdown",
   "metadata": {},
   "source": [
    "<font color=red><b>Answer:</font></b> <font color=blue><b>\n",
    "The worst model in terms of accuracy was logistic regression, followed by random forest, decision tree and gradient boosted trees, which was the best one. All the accuracies were found within a range of 81%-84%. The tree-based models presented a very similar accuracy metric. \n",
    "</font></b> "
   ]
  },
  {
   "cell_type": "markdown",
   "metadata": {},
   "source": [
    "### Step 09: Calculate the confusion matrix and find the precision, recall, and F1 score of each classification algorithm. Explain how the accuracy of the predication can be improved?\n",
    "Finding the accuracy of the model does not always represent the quality of the model for a given dataset. Number of false positive and false negative identification also plays an important role when we decide about any particular classification model. The way we can calculate is called confusion matrix. You can use confusionMatrix() method to calculate the confusion matrix. From the confusion matrix show the precision, recall and f1 score of each classification model."
   ]
  },
  {
   "cell_type": "code",
   "execution_count": 27,
   "metadata": {},
   "outputs": [
    {
     "name": "stdout",
     "output_type": "stream",
     "text": [
      "LR :\n",
      "\n",
      "Precision:  0.6339212131201583 \n",
      "Recall:  0.4038219235615288 \n",
      "F1 Score:  0.493361554743121 \n",
      "\n",
      "DT :\n",
      "\n",
      "Precision:  0.7310007524454477 \n",
      "Recall:  0.40802183956320875 \n",
      "F1 Score:  0.5237196765498652 \n",
      "\n",
      "RF :\n",
      "\n",
      "Precision:  0.7681975736568457 \n",
      "Recall:  0.372322553548929 \n",
      "F1 Score:  0.5015558698727015 \n",
      "\n",
      "GBT :\n",
      "\n",
      "Precision:  0.73477578084104 \n",
      "Recall:  0.44214615707685845 \n",
      "F1 Score:  0.5520812848246476 \n",
      "\n"
     ]
    }
   ],
   "source": [
    "from pyspark.mllib.evaluation import MulticlassMetrics\n",
    "# defining a function to take as argument the spark dataframe that contains the true values and predictions and \n",
    "# calculate the confusion matrix based on that:\n",
    "def confusion_matrix(spark_df):\n",
    "    # the MulticlassMetrics() functions takes as input an RDD of (prediction, label) pairs.\n",
    "    # We need to transform our dataframes of predictions to this shape:\n",
    "    rdd = spark_df.select(['prediction', 'RainTomorrow_index']).rdd.map(tuple)\n",
    "    # Using confusion matrix method from multiclass to return ou confusion matrix (as array) \n",
    "    metrics = MulticlassMetrics(rdd)\n",
    "    return metrics.confusionMatrix().toArray()\n",
    "\n",
    "# From the confusion matrix show the precision, recall and f1 score of each classification model:\n",
    "# Precision is the number of true positives divided by the number of true positives plus the number of false positives\n",
    "# recall is the number of true positives divided by the number of true positives plus the number of false negatives\n",
    "# F1 score is the harmonic mean of precision and recall \n",
    "models = ['LR', 'DT', 'RF', 'GBT']\n",
    "i=0\n",
    "for df in [lr_predictions, dt_predictions, rf_predictions, gbt_predictions]:\n",
    "    print(models[i],':\\n')\n",
    "    cm = confusion_matrix(df)\n",
    "    precision = cm[1,1]/(cm[0,1]+cm[1,1])\n",
    "    recall = cm[1,1]/(cm[1,1]+cm[1,0])\n",
    "    f1 = 2*precision*recall/(precision+recall)\n",
    "    print('Precision: ', precision, '\\nRecall: ', recall, '\\nF1 Score: ', f1, '\\n')\n",
    "    i+=1"
   ]
  },
  {
   "cell_type": "markdown",
   "metadata": {},
   "source": [
    "Explain how you can improve the accuracy of the prediction. <br>\n",
    "<font color=red><b>Answer:</font></b> <font color=blue><b>\n",
    "We could improve the Accuracy of them by introducing Cloud9am, Cloud3pm and Sunshine as features. If we are predicting rain tomorrow, it is logical that the fraction of sky obscured by cloud today and the number of hours of bright sunshine are correlated with the rain occurence in the next day, and helpful for our model. Other variables that were considered should be also analysed, maximum and minimum temperature, for instace, might not be so important for our model and maybe could  be eliminated from the analysis.\n",
    "\n",
    "Still on the feature engineering side, we can rescale the variables so that  the variables with higher scales such as pressure do not bias the model. We could also improve our analysis by using cross-validation to test the model's ability to predict new data, in order to flag problems like overfitting or selection bias.\n",
    "\n",
    "Furthermore, I can also improve the models by searching for the best hyper-parameters. For instance, for the 3 tree-based models, we could play with the parameter 'maxDepth',  having in mind that deeper trees are more expressive (potentially allowing higher accuracy), but they are also more costly to train and are more likely to overfit. For the ensemble models (GBT and Random Forest), the parameter 'numTrees'/'numInteractions' can be changed. By increasing the number of trees, the variance in predictions will decrease, improving the model’s test-time accuracy. It is important to mention that training time increases almost linearly as the number of trees increases. For the Logistic Regression, we can increase the number of interations with the parameter 'maxIter' to make the model understand the data patterns better, and so, improve its accuracy. (Apache Spark Documentation, 2019).\n",
    " \n",
    "</font></b> \n",
    "\n",
    "## References:\n",
    "\n",
    "Apache Spark Documentation, 2019, https://spark.apache.org/docs/2.3.0/ml-classification-regression.html <br>\n",
    "Apache Spark Documentation, 2019, https://spark.apache.org/docs/2.3.0/mllib-ensembles.html#gradient-boosted-trees-gbts\n"
   ]
  }
 ],
 "metadata": {
  "kernelspec": {
   "display_name": "Python 3",
   "language": "python",
   "name": "python3"
  },
  "language_info": {
   "codemirror_mode": {
    "name": "ipython",
    "version": 3
   },
   "file_extension": ".py",
   "mimetype": "text/x-python",
   "name": "python",
   "nbconvert_exporter": "python",
   "pygments_lexer": "ipython3",
   "version": "3.6.8"
  }
 },
 "nbformat": 4,
 "nbformat_minor": 2
}
